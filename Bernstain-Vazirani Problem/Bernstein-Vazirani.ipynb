{
 "cells": [
  {
   "cell_type": "code",
   "execution_count": 3,
   "metadata": {},
   "outputs": [],
   "source": [
    "import numpy as np\n",
    "from qiskit import QuantumCircuit, Aer \n",
    "from qiskit.visualization import plot_histogram \n",
    "\n",
    "# Importing standard Qiskit libraries and configuring account\n",
    "from qiskit import QuantumRegister, ClassicalRegister, QuantumCircuit, quantum_info, IBMQ, Aer, execute\n",
    "from qiskit.compiler import transpile, assemble\n",
    "from qiskit.visualization import plot_bloch_multivector, plot_state_qsphere, plot_histogram"
   ]
  },
  {
   "cell_type": "markdown",
   "metadata": {},
   "source": [
    "# The Bernstein-Vazirani Problem\n",
    "\n",
    "Let us consider a boolean function $f$ that take as input a string of $N$ bits $x=x_0x_1x_2\\cdots$, and return its bitwise product with some secret string $s=s_0s_1s_2\\cdots$, that is: \n",
    "\n",
    "$$f(x)= s\\cdot x (mod 2). $$\n",
    "\n",
    "The goal is find the secreat string $s$. The classical solution of this problem consist in query an oracle of the function with inputs given by strings $x^{(n)}$ which have only a single 1 on the position $n$, \n",
    "\n",
    "$$x^{(0)}=100\\cdots 0, \\quad x^{(1)}=010\\cdots 0, \\quad  x^{(2)}=001\\cdots 0, \\quad \\dots \\quad,\\quad x^{(N-1)}= 000\\cdots1.$$\n",
    "\n",
    "Each query reveals a different bit of $s$, that is $ s_n = f(x^{n}) $. Therefore, we need to call the oracle $n$ times to find $s$.\n",
    "\n"
   ]
  },
  {
   "cell_type": "markdown",
   "metadata": {},
   "source": [
    "# The quantum solution\n",
    "\n",
    "Using a quantum computer, we can solve this problem with 100% confidence with only a single call of the oracle. In this lecture we will implement this algoritm using qiskit. "
   ]
  },
  {
   "cell_type": "markdown",
   "metadata": {},
   "source": [
    "## Problem 1\n",
    "Create a quantum circuit called $\\rm qc$ with $N+1$ quantum bits and $N$ classical bits, with $N=3$. The first $N$ qubits will code the bit string to query the oracle, and the last qubit is an ancillary to implement the oracle."
   ]
  },
  {
   "cell_type": "code",
   "execution_count": 5,
   "metadata": {},
   "outputs": [],
   "source": [
    "\n",
    "#### write your code here ####\n",
    "n = 3\n",
    "qr = QuantumRegister(n+1, name=\"q\")   # Protocol uses 3 qubits\n",
    "cr = ClassicalRegister(n, name=\"c\")   # and 2 classical bits\n",
    "\n",
    "qc = QuantumCircuit(qr, cr)\n",
    "\n",
    "##############################\n",
    "\n",
    "qc1 = qc.copy()"
   ]
  },
  {
   "cell_type": "markdown",
   "metadata": {},
   "source": [
    "## Problem 2\n",
    "Apply hadamard gates to the first $N$ qubit of $\\rm qc$. This means that the input for the oracle will be a superposition."
   ]
  },
  {
   "cell_type": "code",
   "execution_count": 12,
   "metadata": {},
   "outputs": [
    {
     "data": {
      "image/png": "[encoded data removed]",
      "text/plain": [
       "<Figure size 206.997x325.08 with 1 Axes>"
      ]
     },
     "execution_count": 12,
     "metadata": {},
     "output_type": "execute_result"
    }
   ],
   "source": [
    "qc = qc1.copy()\n",
    "\n",
    "#### write your code here ####\n",
    "\n",
    "##Normal loop\n",
    "#for i in range(0,n)\n",
    "#    qc.h(i)\n",
    "\n",
    "## quick loop - same stuff but shorter notation\n",
    "qc.h(range(n))\n",
    "\n",
    "##############################\n",
    "\n",
    "qc.barrier()\n",
    "qc2 = qc.copy()\n",
    "qc.draw(output='mpl')"
   ]
  },
  {
   "cell_type": "markdown",
   "metadata": {},
   "source": [
    "## Problem 3\n",
    "Now we going to construct the oracle for the function $f$ with $s=110$ with the Phase-kickback trick. First, initialize the ancillary qubit in the state $|-\\rangle=(|0\\rangle-|1\\rangle)/\\sqrt{2}$."
   ]
  },
  {
   "cell_type": "code",
   "execution_count": 17,
   "metadata": {},
   "outputs": [
    {
     "data": {
      "image/png": "[encoded data removed]",
      "text/plain": [
       "<Figure size 327.397x325.08 with 1 Axes>"
      ]
     },
     "execution_count": 17,
     "metadata": {},
     "output_type": "execute_result"
    }
   ],
   "source": [
    "qc = qc2.copy()\n",
    "s = '110'\n",
    "\n",
    "#### write your code here ####\n",
    "\n",
    "qc.h(n)\n",
    "qc.z(n)\n",
    "\n",
    "##############################\n",
    "\n",
    "qc3 = qc.copy()\n",
    "qc.draw(output='mpl')"
   ]
  },
  {
   "cell_type": "markdown",
   "metadata": {
    "tags": []
   },
   "source": [
    "## Problem 4\n",
    "Let consider the bit string $\\bar{s}=s_{N-1}s_{N-2}\\cdots s_0$, which correspond to reverse the bits of $s$. Apply a CNOT gate between the qubit $j$ and the ancillary qubit if $\\bar{s}_j=1$, for $j=0,1,\\dots,N-1$."
   ]
  },
  {
   "cell_type": "code",
   "execution_count": 30,
   "metadata": {},
   "outputs": [
    {
     "data": {
      "image/png": "[encoded data removed]",
      "text/plain": [
       "<Figure size 507.997x325.08 with 1 Axes>"
      ]
     },
     "execution_count": 30,
     "metadata": {},
     "output_type": "execute_result"
    }
   ],
   "source": [
    "qc = qc3.copy()\n",
    "\n",
    "#### write your code here ####\n",
    "\n",
    "for j in range(n):\n",
    "    if(s[-j-1] == \"1\"):\n",
    "        qc.cx(j,n)\n",
    "\n",
    "##############################\n",
    "\n",
    "qc.barrier()\n",
    "qc4 = qc.copy()\n",
    "qc.draw(output='mpl')"
   ]
  },
  {
   "cell_type": "markdown",
   "metadata": {},
   "source": [
    "## Problem 5\n",
    "Apply hadamard gates to the first $N$ qubits."
   ]
  },
  {
   "cell_type": "code",
   "execution_count": 31,
   "metadata": {},
   "outputs": [
    {
     "data": {
      "image/png": "[encoded data removed]",
      "text/plain": [
       "<Figure size 628.397x325.08 with 1 Axes>"
      ]
     },
     "execution_count": 31,
     "metadata": {},
     "output_type": "execute_result"
    }
   ],
   "source": [
    "qc = qc4.copy()\n",
    "\n",
    "#### write your code here ####\n",
    "\n",
    "qc.h(range(n))\n",
    "\n",
    "##############################\n",
    "\n",
    "qc5 = qc\n",
    "qc.barrier()\n",
    "qc.draw(output='mpl')"
   ]
  },
  {
   "cell_type": "markdown",
   "metadata": {},
   "source": [
    "## Problem 6\n",
    "Perform quantum measurements in the first $N$ qubits and save its outcome in the $N$ classical bits of qc."
   ]
  },
  {
   "cell_type": "code",
   "execution_count": 33,
   "metadata": {},
   "outputs": [
    {
     "data": {
      "image/png": "[encoded data removed]",
      "text/plain": [
       "<Figure size 808.997x325.08 with 1 Axes>"
      ]
     },
     "execution_count": 33,
     "metadata": {},
     "output_type": "execute_result"
    }
   ],
   "source": [
    "qc = qc5.copy()\n",
    "\n",
    "#### write your code here ####\n",
    "\n",
    "qc.measure(range(n),range(n))\n",
    "\n",
    "   \n",
    "##############################\n",
    "\n",
    "qc6 = qc\n",
    "qc.draw(output='mpl')"
   ]
  },
  {
   "cell_type": "markdown",
   "metadata": {},
   "source": [
    "## Problem 7\n",
    "Run a simulation of the experiment with the aer_simulator. Extract the counts from the results is save them in a variable called ${\\rm counts}$. "
   ]
  },
  {
   "cell_type": "code",
   "execution_count": 42,
   "metadata": {},
   "outputs": [
    {
     "name": "stdout",
     "output_type": "stream",
     "text": [
      "{'110': 1}\n"
     ]
    }
   ],
   "source": [
    "qc = qc6.copy()\n",
    "\n",
    "#### write your code here ####\n",
    "\n",
    "backend = Aer.get_backend('qasm_simulator')\n",
    "job_exp = execute(qc, backend=backend, shots=1)\n",
    "\n",
    "exp_result = job_exp.result()\n",
    "counts = exp_result.get_counts(qc)\n",
    "print(counts)\n",
    "\n",
    "\n",
    "##############################"
   ]
  },
  {
   "cell_type": "markdown",
   "metadata": {},
   "source": [
    "## Problem 8\n",
    "Plot a histogram of the counts."
   ]
  },
  {
   "cell_type": "code",
   "execution_count": 41,
   "metadata": {},
   "outputs": [
    {
     "name": "stdout",
     "output_type": "stream",
     "text": [
      "s = 110\n",
      "{'110': 1000}\n"
     ]
    },
    {
     "data": {
      "image/png": "[encoded data removed]",
      "text/plain": [
       "<Figure size 504x360 with 1 Axes>"
      ]
     },
     "execution_count": 41,
     "metadata": {},
     "output_type": "execute_result"
    }
   ],
   "source": [
    "print(r's =', s)\n",
    "#### write your code here ####\n",
    "\n",
    "\n",
    "exp_measurement_result = exp_result.get_counts(qc)\n",
    "print(exp_measurement_result)\n",
    "plot_histogram(exp_measurement_result)\n",
    "\n",
    "##############################\n"
   ]
  },
  {
   "cell_type": "code",
   "execution_count": null,
   "metadata": {},
   "outputs": [],
   "source": []
  },
  {
   "cell_type": "code",
   "execution_count": null,
   "metadata": {},
   "outputs": [],
   "source": []
  },
  {
   "cell_type": "markdown",
   "metadata": {},
   "source": []
  }
 ],
 "metadata": {
  "kernelspec": {
   "display_name": "Python 3 (ipykernel)",
   "language": "python",
   "name": "python3"
  },
  "language_info": {
   "codemirror_mode": {
    "name": "ipython",
    "version": 3
   },
   "file_extension": ".py",
   "mimetype": "text/x-python",
   "name": "python",
   "nbconvert_exporter": "python",
   "pygments_lexer": "ipython3",
   "version": "3.8.13"
  },
  "vscode": {
   "interpreter": {
    "hash": "cda8d9f3af62c123a40166c789fd00a9f9e68094ffd9b43f4f632544febced4e"
   }
  },
  "widgets": {
   "application/vnd.jupyter.widget-state+json": {
    "state": {},
    "version_major": 2,
    "version_minor": 0
   }
  }
 },
 "nbformat": 4,
 "nbformat_minor": 4
}
